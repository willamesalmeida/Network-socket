{
 "cells": [
  {
   "cell_type": "markdown",
   "metadata": {},
   "source": [
    "# Scraping"
   ]
  },
  {
   "cell_type": "code",
   "execution_count": null,
   "metadata": {},
   "outputs": [],
   "source": [
    "import requests\n",
    "import bs4\n",
    "from socket import *"
   ]
  },
  {
   "cell_type": "code",
   "execution_count": null,
   "metadata": {},
   "outputs": [],
   "source": [
    "# pegando informações do site \n",
    "def scrapin(site):\n",
    "    res = requests.get('{}'.format(site))\n",
    "    soup = bs4.BeautifulSoup(res.text,\"html.parser\")\n",
    "    return soup"
   ]
  },
  {
   "cell_type": "code",
   "execution_count": null,
   "metadata": {},
   "outputs": [],
   "source": [
    "# conectando ao site\n",
    "site = 'http://portaldasprefeituras-al.com.br/limoeirodeanadia/prefeitura/'\n",
    "# jogando na funcao para fascilitar a manipulacao\n",
    "dados = scrapin(site)\n",
    "print(\"site conectado\")"
   ]
  },
  {
   "cell_type": "code",
   "execution_count": null,
   "metadata": {},
   "outputs": [],
   "source": [
    "# selecionando somente os dados da tabela\n",
    "tratamento_aux = []\n",
    "for d in dados.find_all('tr'):\n",
    "        tratamento_aux.append(d.get_text())\n",
    "        print(d.get_text())"
   ]
  },
  {
   "cell_type": "code",
   "execution_count": null,
   "metadata": {},
   "outputs": [],
   "source": [
    "dados_tratados = []\n",
    "# retirando quebra de linha e dadso nao uteis\n",
    "for e in tratamento_aux:\n",
    "    aux = e.split('\\n')\n",
    "    while True:\n",
    "        try:\n",
    "            #removendo dados nao uteis\n",
    "            aux.remove('')\n",
    "        except:\n",
    "            try:\n",
    "                #removendo dados nao uteis\n",
    "                aux.remove(' Visualizar com detalhes')\n",
    "                aux.remove(' Exportar em CSV')\n",
    "            except:\n",
    "                break\n",
    "                \n",
    "    dados_tratados.append(aux)\n",
    "    print(aux)\n",
    "############################\n",
    "\n",
    "#remoção dos primeiros dados \n",
    "dados_tratados.pop(0)\n",
    "dados_tratados.pop(0)\n",
    "dados_tratados.pop(0)\n",
    "# criando dicionario\n",
    "lista_Empenhos = {'NE':[],'DE':[],'VE':[],'CC':[],'NC':[],'H':[]}\n",
    "# NE = 'Nº do Empenho'\n",
    "# DE = 'Data do Empenho (A-M-D)'\n",
    "# VE = 'Valor do Empenho'\n",
    "# CC = 'Codigo do Credor'\n",
    "# NC = 'Nome do Credor'\n",
    "# H = 'Historico'\n",
    "# armazenando nas listas\n",
    "for fa in dados_tratados:\n",
    "    lista_Empenhos['NE'].append(int(fa[0]))\n",
    "    lista_Empenhos['DE'].append(fa[1])\n",
    "    lista_Empenhos['VE'].append(fa[2])\n",
    "    lista_Empenhos['CC'].append(fa[3])\n",
    "    lista_Empenhos['NC'].append(fa[4])\n",
    "    lista_Empenhos['H'].append(fa[5])"
   ]
  },
  {
   "cell_type": "code",
   "execution_count": null,
   "metadata": {},
   "outputs": [],
   "source": [
    "#funcao para pesquisar \n",
    "def pesquisa (numero,opcao):\n",
    "    resultados = []\n",
    "    count = 0\n",
    "    for num in lista_Empenhos[opcao]:\n",
    "        if num == numero:\n",
    "            resultados.append(count)\n",
    "        count += 1\n",
    "    return resultados"
   ]
  },
  {
   "cell_type": "markdown",
   "metadata": {},
   "source": [
    "# Servidor"
   ]
  },
  {
   "cell_type": "code",
   "execution_count": null,
   "metadata": {},
   "outputs": [],
   "source": [
    "myHost = ''\n",
    "myPort = 5007"
   ]
  },
  {
   "cell_type": "code",
   "execution_count": null,
   "metadata": {},
   "outputs": [],
   "source": [
    "# AF_INET --> protocolo de endereço IP\n",
    "# SOCK_STREAM ---> TCP\n",
    "sockObj = socket(AF_INET,SOCK_STREAM)"
   ]
  },
  {
   "cell_type": "code",
   "execution_count": null,
   "metadata": {},
   "outputs": [],
   "source": [
    "# VINCULANDO O SERVIDOR COM A PORTA\n",
    "sockObj.bind((myHost, myPort))"
   ]
  },
  {
   "cell_type": "code",
   "execution_count": null,
   "metadata": {},
   "outputs": [],
   "source": [
    "#numero de conexões simultaneas\n",
    "sockObj.listen(5)\n",
    "print(\"servidor ligado\")"
   ]
  },
  {
   "cell_type": "code",
   "execution_count": null,
   "metadata": {},
   "outputs": [],
   "source": [
    "#Servidor\n",
    "while True:\n",
    "    conexao, endereco = sockObj.accept()\n",
    "    print(\"Servidor conectado por: \",endereco)\n",
    "    while True:\n",
    "\n",
    "        # numero de bytes que a conexão ira receber\n",
    "        total_bytes = 1024\n",
    "        data = conexao.recv(total_bytes)\n",
    "        \n",
    "        \n",
    "        if not data : break\n",
    "        # Meu de ações\n",
    "        acao = data.decode()\n",
    "        acao = acao.split(',')\n",
    "        print(acao)\n",
    "        # verificação para verificar nas tabelas respectivas\n",
    "        if acao[0] == \"NE\":\n",
    "            resultado = ''\n",
    "            # pesquisa na tabela\n",
    "            for result in pesquisa(acao[1],'NE'):\n",
    "                # armazenando na string\n",
    "                resultado += \"NC: \" + str(lista_Empenhos['NC'][result]) +\" | \"+ \"H: \" + str(lista_Empenhos['H'][result]) +\" | \"+ \"VE: \" + str(lista_Empenhos['VE'][result])+\" | \"+ \"DE: \" + str(lista_Empenhos['DE'][result])\n",
    "                resultado += (str(\"+\"))\n",
    "                \n",
    "        elif acao[0] == \"CC\":\n",
    "            resultado = ''\n",
    "            # Pesquisa na tabela\n",
    "            for result in pesquisa(acao[1],'CC'):\n",
    "                # armazenando na string\n",
    "                resultado += \"NC: \" + str(lista_Empenhos['NC'][result]) +\" | \"+ \"H: \" + str(lista_Empenhos['H'][result]) +\" | \"+ \"VE: \" + str(lista_Empenhos['VE'][result])+\" | \"+ \"DE: \" + str(lista_Empenhos['DE'][result])\n",
    "                resultado += (str(\"+\"))\n",
    "                \n",
    "        elif acao[0] == \"NC\":\n",
    "            resultado = ''\n",
    "            # pesquina na tabela\n",
    "            for result in pesquisa(acao[1],'NC'):\n",
    "                # armazena na string\n",
    "                resultado += \"CC: \" + str(lista_Empenhos['CC'][result]) +\" | \"+ \"H: \" + str(lista_Empenhos['H'][result]) +\" | \"+ \"VE: \" + str(lista_Empenhos['VE'][result])+\" | \"+ \"DE: \" + str(lista_Empenhos['DE'][result])\n",
    "                resultado += (str(\"+\"))\n",
    "        elif acao[0] == \"DE\":\n",
    "            resultado = ''\n",
    "            # pesquisa na tabela\n",
    "            for result in pesquisa(acao[1],'DE'):\n",
    "                # armazena na string\n",
    "                resultado += \"NC: \" + str(lista_Empenhos['NC'][result]) +\" | \"+ \"H: \" + str(lista_Empenhos['H'][result]) +\" | \"+ \"VE: \" + str(lista_Empenhos['VE'][result])+\" | \"+ \"DE: \" + str(lista_Empenhos['DE'][result])\n",
    "                resultado += (str(\"+\"))\n",
    "        else:\n",
    "            # se a tabela nao existir\n",
    "            resultado = \"ERROR: TABLE NOT FOUND\"\n",
    "        # se o valor não for encontrado\n",
    "        if resultado == '':\n",
    "            resultado = \"ERROR: VALUE NOT FOUND\"\n",
    "        # envio da mensagem para o cliente\n",
    "        conexao.send(str.encode(str(resultado)))\n",
    "    # Fechando a conexoa\n",
    "    conexao.close\n"
   ]
  }
 ],
 "metadata": {
  "kernelspec": {
   "display_name": "Python 3",
   "language": "python",
   "name": "python3"
  },
  "language_info": {
   "codemirror_mode": {
    "name": "ipython",
    "version": 3
   },
   "file_extension": ".py",
   "mimetype": "text/x-python",
   "name": "python",
   "nbconvert_exporter": "python",
   "pygments_lexer": "ipython3",
   "version": "3.7.2rc1"
  }
 },
 "nbformat": 4,
 "nbformat_minor": 2
}
