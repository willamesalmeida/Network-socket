{
 "cells": [
  {
   "cell_type": "markdown",
   "metadata": {},
   "source": [
    "# Cliente"
   ]
  },
  {
   "cell_type": "code",
   "execution_count": 1,
   "metadata": {},
   "outputs": [],
   "source": [
    "from socket import *"
   ]
  },
  {
   "cell_type": "code",
   "execution_count": 2,
   "metadata": {},
   "outputs": [],
   "source": [
    "# tipo de conexão, local\n",
    "serverHost = 'localhost'\n",
    "# porta para comunicação com o servidor (a mesma do servidor)\n",
    "serverPort = 5007"
   ]
  },
  {
   "cell_type": "code",
   "execution_count": 3,
   "metadata": {},
   "outputs": [],
   "source": [
    "# Tipo de protocolo usado\n",
    "# AF_INET  = IP\n",
    "# SOCK_STREAM = TCP\n",
    "sock_client_obj = socket(AF_INET,SOCK_STREAM)"
   ]
  },
  {
   "cell_type": "code",
   "execution_count": 4,
   "metadata": {},
   "outputs": [],
   "source": [
    "# criando a conexão\n",
    "sock_client_obj.connect((serverHost,serverPort))"
   ]
  },
  {
   "cell_type": "code",
   "execution_count": 5,
   "metadata": {},
   "outputs": [
    {
     "name": "stdout",
     "output_type": "stream",
     "text": [
      "Programa desenvolvido para coletar dados do site Portal da Transparência da cidade de Limoeiro de Anadia. \n",
      "\n",
      "indice de Abreciações:\n",
      "NE = Nº do Empenho  DE = Data do Empenho (ANO-MÊS-DIA)  VE = Valor do Empenho  CC = Codigo do Credor  NC = Nome do Credor  H = Historico \n",
      "\n",
      "Digite a abreviação e o dado para consulta separado por virgulas:\n",
      "Exemplo: DE,2018-12-28\n",
      "Digite a tabela e a consulta:NC,ALVIANE PATR?CIA DA SILVA\n"
     ]
    }
   ],
   "source": [
    "#entrada da mensagem\n",
    "print(\"Programa desenvolvido para coletar dados do site Portal da Transparência da cidade de Limoeiro de Anadia.\",'\\n')\n",
    "print(\"indice de Abreciações:\")\n",
    "print('NE = Nº do Empenho',' DE = Data do Empenho (ANO-MÊS-DIA)',' VE = Valor do Empenho',' CC = Codigo do Credor',' NC = Nome do Credor',' H = Historico',\"\\n\")\n",
    "print(\"Digite a abreviação e o dado para consulta separado por virgulas:\")\n",
    "print(\"Exemplo: DE,2018-12-28\")\n",
    "entrada = input(\"Digite a tabela e a consulta:\")\n",
    "mensagem = [str.encode(entrada)]"
   ]
  },
  {
   "cell_type": "code",
   "execution_count": 6,
   "metadata": {},
   "outputs": [
    {
     "name": "stdout",
     "output_type": "stream",
     "text": [
      "NE = Nº do Empenho  DE = Data do Empenho (ANO-MÊS-DIA)  VE = Valor do Empenho  CC = Codigo do Credor  NC = Nome do Credor  H = Historico \n",
      "\n",
      "ERROR: VALUE NOT FOUND\n"
     ]
    },
    {
     "data": {
      "text/plain": [
       "<bound method socket.close of <socket.socket fd=992, family=AddressFamily.AF_INET, type=SocketKind.SOCK_STREAM, proto=0, laddr=('127.0.0.1', 60213), raddr=('127.0.0.1', 5007)>>"
      ]
     },
     "execution_count": 6,
     "metadata": {},
     "output_type": "execute_result"
    }
   ],
   "source": [
    "for linha in mensagem:\n",
    "    sock_client_obj.send(linha)\n",
    "    \n",
    "    #espera o servidor responder\n",
    "    data = sock_client_obj.recv(10024)\n",
    "    resposta = data.decode().split(\"+\")\n",
    "    print('NE = Nº do Empenho',' DE = Data do Empenho (ANO-MÊS-DIA)',' VE = Valor do Empenho',' CC = Codigo do Credor',' NC = Nome do Credor',' H = Historico',\"\\n\")\n",
    "    for valores in resposta:\n",
    "        print(valores)\n",
    "sock_client_obj.close"
   ]
  }
 ],
 "metadata": {
  "kernelspec": {
   "display_name": "Python 3",
   "language": "python",
   "name": "python3"
  },
  "language_info": {
   "codemirror_mode": {
    "name": "ipython",
    "version": 3
   },
   "file_extension": ".py",
   "mimetype": "text/x-python",
   "name": "python",
   "nbconvert_exporter": "python",
   "pygments_lexer": "ipython3",
   "version": "3.7.2rc1"
  }
 },
 "nbformat": 4,
 "nbformat_minor": 2
}
